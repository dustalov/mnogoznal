{
 "cells": [
  {
   "cell_type": "code",
   "execution_count": 1,
   "metadata": {
    "collapsed": true
   },
   "outputs": [],
   "source": [
    "import subprocess"
   ]
  },
  {
   "cell_type": "code",
   "execution_count": 2,
   "metadata": {
    "collapsed": true
   },
   "outputs": [],
   "source": [
    "prepositions = ['в', 'без', 'до', 'из', 'к', 'на', 'по', 'о', 'от', 'перед', 'при', 'через',\n",
    "                'с', 'у', 'и', 'за', 'над', 'для', 'об', 'под', 'про', 'то', 'это', 'а']\n",
    "\n",
    "speech_parts = ['S', 'A', 'V', 'ADV']"
   ]
  },
  {
   "cell_type": "code",
   "execution_count": 3,
   "metadata": {
    "collapsed": true
   },
   "outputs": [],
   "source": [
    "def divide_in_sentences(text):\n",
    "    sentences = list()\n",
    "    sentences = text.split('. ')\n",
    "    return sentences"
   ]
  },
  {
   "cell_type": "code",
   "execution_count": 7,
   "metadata": {},
   "outputs": [],
   "source": [
    "def mystem_func(sentence):\n",
    "    \"\"\"Возвращает список, состоящий из списков вида [token, lemma, pos]\"\"\"\n",
    "    \n",
    "    # Удаляем посторонние символы\n",
    "    table = {ord(char): None for char in '!?,.;'}  \n",
    "    sentence = sentence.translate(table)\n",
    "    \n",
    "    # Выполнение команды mystem\n",
    "    command = \"echo '%s' | mystem -e cp866 -nid\" % (sentence)  \n",
    "    proc = subprocess.Popen(command, shell=True, stdout=subprocess.PIPE, )\n",
    "    output = proc.communicate()[0] \n",
    "    \n",
    "    # Обработка результата в считываемый вид (массив строк)\n",
    "    string_output = str(output.decode('cp866'))  \n",
    "    output_array = string_output.split('\\r\\n')\n",
    "    output_array.remove('')\n",
    "    \n",
    "    # Обработка каждой строки так, чтобы получить для слова его токен, лемму и часть речи.\n",
    "    # Результат для каждого слова записывается в список из трех элементов.\n",
    "    # Все списки хранятся в списке words_array\n",
    "    words_array = list()\n",
    "    for word_line in output_array:\n",
    "        start_index = word_line.find('{',)\n",
    "        end_index = len(word_line) - 1\n",
    "        token = word_line[:start_index]\n",
    "        if (token.lower() in prepositions):  #  Если исходное слово - предлог, то выбрасываем и идем дальше.\n",
    "            continue\n",
    "        \n",
    "        # Отбрасываем лишнюю информацию\n",
    "        buf = word_line[start_index+1:end_index].split(',')\n",
    "        buf = buf[0].split('=')\n",
    "        if (buf[1] not in speech_parts):\n",
    "            continue\n",
    "        if (len(buf) > 2):\n",
    "            del buf[2]\n",
    "        \n",
    "        # Оформляем результат в виде списка\n",
    "        buf.insert(0, token)\n",
    "        words_array.append(buf)\n",
    "    return words_array"
   ]
  },
  {
   "cell_type": "code",
   "execution_count": 5,
   "metadata": {
    "collapsed": true
   },
   "outputs": [],
   "source": [
    "text = (\n",
    "    'Если подросток добрый, уступчивый и хороший, '\n",
    "    + 'то это часто воспринимается окружающими как проявление слабости его характера, '\n",
    "    + 'как неспособность чётко высказать свою позицию. '\n",
    "    + 'Привет, незнакомка.'\n",
    ")"
   ]
  },
  {
   "cell_type": "code",
   "execution_count": 11,
   "metadata": {},
   "outputs": [
    {
     "name": "stdout",
     "output_type": "stream",
     "text": [
      "\u001b[1mПредложение 0:\u001b[0m [['подросток', 'подросток', 'S'], ['добрый', 'добрый', 'A'], ['уступчивый', 'уступчивый', 'A'], ['хороший', 'хороший', 'A'], ['часто', 'часто', 'ADV'], ['воспринимается', 'восприниматься', 'V'], ['окружающими', 'окружающие', 'S'], ['проявление', 'проявление', 'S'], ['слабости', 'слабость', 'S'], ['характера', 'характер', 'S'], ['неспособность', 'неспособность', 'S'], ['чётко', 'четко', 'ADV'], ['высказать', 'высказывать', 'V'], ['позицию', 'позиция', 'S']]\n",
      "\u001b[1mПредложение 1:\u001b[0m [['Привет', 'привет', 'S'], ['незнакомка', 'незнакомка', 'S']]\n"
     ]
    }
   ],
   "source": [
    "sentences = divide_in_sentences(text)\n",
    "result = list()\n",
    "for sentence in sentences:\n",
    "    result_sentence = list()\n",
    "    result_sentence = mystem_func(sentence)\n",
    "    result.append(result_sentence)\n",
    "for i in range(0,len(result)):\n",
    "    print('\\033[1m' + 'Предложение %i:'%i + '\\033[0m', result[i])"
   ]
  }
 ],
 "metadata": {
  "kernelspec": {
   "display_name": "Python 3",
   "language": "python",
   "name": "python3"
  },
  "language_info": {
   "codemirror_mode": {
    "name": "ipython",
    "version": 3
   },
   "file_extension": ".py",
   "mimetype": "text/x-python",
   "name": "python",
   "nbconvert_exporter": "python",
   "pygments_lexer": "ipython3",
   "version": "3.6.1"
  }
 },
 "nbformat": 4,
 "nbformat_minor": 2
}
