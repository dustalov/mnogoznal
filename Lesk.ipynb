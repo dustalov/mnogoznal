{
 "cells": [
  {
   "cell_type": "markdown",
   "metadata": {},
   "source": [
    "## Подготовка"
   ]
  },
  {
   "cell_type": "code",
   "execution_count": 1,
   "metadata": {
    "collapsed": true
   },
   "outputs": [],
   "source": [
    "# Библиотеки\n",
    "import csv\n",
    "from collections import defaultdict\n",
    "\n",
    "# Для форматирования вывода\n",
    "BOLD = '\\033[1m'\n",
    "END = '\\033[0m'"
   ]
  },
  {
   "cell_type": "markdown",
   "metadata": {},
   "source": [
    "Считываем файл с данными, узнаем из него список синсетов и близких слов."
   ]
  },
  {
   "cell_type": "code",
   "execution_count": 2,
   "metadata": {
    "collapsed": true
   },
   "outputs": [],
   "source": [
    "# Извлечение слова из строки вида 'word#X:Y'\n",
    "def lexeme(str):\n",
    "    \"\"\"Возвращает word, если вид word#X\n",
    "    Возвращает word, freq, если вид word#X:freq\n",
    "    \"\"\"\n",
    "    if '#' in str:\n",
    "        word, tail = str.split('#', 1)\n",
    "    else:\n",
    "        word, tail = str, None\n",
    "\n",
    "    if tail:\n",
    "        if ':' in tail:\n",
    "            labels, tail = tail.split(':', 1)\n",
    "        else:\n",
    "            labels, tail = tail, None\n",
    "\n",
    "    if tail:\n",
    "        freq = float(tail)\n",
    "        return word, freq\n",
    "    else:\n",
    "        #freq = 1\n",
    "        return word"
   ]
  },
  {
   "cell_type": "code",
   "execution_count": 3,
   "metadata": {},
   "outputs": [
    {
     "name": "stdout",
     "output_type": "stream",
     "text": [
      "Wall time: 895 ms\n"
     ]
    }
   ],
   "source": [
    "%%time\n",
    "synsets = {}  # Словарь {id -> список синсетов}\n",
    "index = defaultdict(list)  # Словарь {слово -> номера синсетов с упоминаниями}\n",
    "lexicon = set()  # Набор всех слов в базе\n",
    "relations = {}  # Словарь {id -> словарь близких слов}\n",
    "\n",
    "# Считываем файл\n",
    "with open('watset-mcl-mcl-joint-exp-linked.tsv', 'r', encoding='utf-8') as f:\n",
    "    reader = csv.reader(f, delimiter='\\t', quoting=csv.QUOTE_NONE)  \n",
    "\n",
    "    # Перебираем строки и заполняем переменные synsets и relations словами.\n",
    "    # Ключи - номер строки (с единицы).\n",
    "    # Значения synsets - массивы строковых слов.\n",
    "    # Значения relations - словари вида {слово -> частота}.\n",
    "    for row in reader:\n",
    "        synsets[int(row[0])] = [lexeme(word) for word in row[2].split(', ') if word]\n",
    "        \n",
    "        relations_dict = dict()\n",
    "        for word in row[4].split(', '):\n",
    "            if word:\n",
    "                key, value = lexeme(word)\n",
    "                relations_dict[key] = value\n",
    "        relations[int(row[0])] = relations_dict\n",
    "\n",
    "        # Закидываем номер строки в index для каждого слова.\n",
    "        for word in synsets[int(row[0])]:\n",
    "            index[word].append(int(row[0]))\n",
    "\n",
    "        # Обновляем лексикон базы данных\n",
    "        lexicon.update(synsets[int(row[0])])"
   ]
  },
  {
   "cell_type": "markdown",
   "metadata": {},
   "source": [
    "Создадим список предлогов, чтобы их выкинуть из будущего предложения."
   ]
  },
  {
   "cell_type": "code",
   "execution_count": 4,
   "metadata": {
    "collapsed": true
   },
   "outputs": [],
   "source": [
    "prepositions = ['в', 'без', 'до', 'из', 'к', 'на', 'по', 'о', 'от', 'перед', 'при', 'через',\n",
    "                'с', 'у', 'и', 'за', 'над', 'для', 'об', 'под', 'про', 'то', 'это', 'а']"
   ]
  },
  {
   "cell_type": "markdown",
   "metadata": {},
   "source": [
    "## Функции обработки"
   ]
  },
  {
   "cell_type": "code",
   "execution_count": 5,
   "metadata": {
    "collapsed": true
   },
   "outputs": [],
   "source": [
    "# Форматирование запроса в \"рабочий\" вид.\n",
    "def formatting(sentence, word):\n",
    "    \"\"\"Возвращает массив слов, из которых состоит предложение за вычетом предлогов и запрашиваемого слова.\"\"\"\n",
    "    table = {ord(char): None for char in '!?,.;'}  # Удаляем посторонние символы\n",
    "    sentence = sentence.translate(table)\n",
    "    \n",
    "    sentence = sentence.lower()  \n",
    "    words_in_sentence = sentence.split(' ')  \n",
    "    words_in_sentence.remove(word)  # Удаляем исходное слово из списка соседних по предложению слов.  \n",
    "    \n",
    "    words_in_sentence = [x for x in words_in_sentence if x not in prepositions] # Удаляем предлоги\n",
    "    \n",
    "    print(BOLD + \"Соседние слова:\" + END, words_in_sentence)\n",
    "    return words_in_sentence"
   ]
  },
  {
   "cell_type": "code",
   "execution_count": 6,
   "metadata": {
    "collapsed": true
   },
   "outputs": [],
   "source": [
    "# Поиск в найденных строках слов, которые есть в искомом предложении.\n",
    "def find_similarity(mentions_list, words_in_sentence):\n",
    "    \"\"\"Возвращает словарь, ключи - номера строк со словом, значения - баллы совпадения этой строки\"\"\"\n",
    "    mentions_dict = dict()\n",
    "    for i in mentions_list:\n",
    "        mentions_dict[i] = 0\n",
    "        for close_word in words_in_sentence:\n",
    "            if (close_word in synsets[i]):\n",
    "                mentions_dict[i] = mentions_dict[i] + 1\n",
    "            if (close_word in relations[i]):\n",
    "                mentions_dict[i] = mentions_dict[i] + float(relations[i][close_word])\n",
    "    print(BOLD + 'Номера строк и количество совпадений' + END, mentions_dict)\n",
    "    return mentions_dict"
   ]
  },
  {
   "cell_type": "code",
   "execution_count": 7,
   "metadata": {
    "collapsed": true,
    "scrolled": true
   },
   "outputs": [],
   "source": [
    "# Находим лучшую строку и процентное соотношение.\n",
    "def find_best(mentions):\n",
    "    summary = 0\n",
    "    max = 0\n",
    "    for i in mentions.keys():\n",
    "        summary = summary + mentions[i]\n",
    "        if (mentions[i] > max):\n",
    "            max = mentions[i]\n",
    "            index = i\n",
    "\n",
    "    print(BOLD + 'Синонимы:' + END)\n",
    "    if (summary > 0):\n",
    "        print(synsets[index])\n",
    "        print(BOLD + 'Связанные слова:' + END)\n",
    "        for key in relations[index].keys():\n",
    "            print(key)\n",
    "        print(BOLD + 'Совпадение по базе данных:' + END, str(max/summary * 100) + \"%\")\n",
    "    else:\n",
    "        print(\"not found\")"
   ]
  },
  {
   "cell_type": "markdown",
   "metadata": {},
   "source": [
    "## Работа с входными данными"
   ]
  },
  {
   "cell_type": "code",
   "execution_count": 8,
   "metadata": {},
   "outputs": [
    {
     "name": "stdout",
     "output_type": "stream",
     "text": [
      "Если подросток добрый, уступчивый и хороший, то это часто воспринимается окружающими как проявление слабости его характера, как неспособность чётко высказать свою позицию.\n"
     ]
    }
   ],
   "source": [
    "sentence = (\n",
    "    'Если подросток добрый, уступчивый и хороший, '\n",
    "    + 'то это часто воспринимается окружающими как проявление слабости его характера, '\n",
    "    + 'как неспособность чётко высказать свою позицию.')\n",
    "word = 'уступчивый'\n",
    "\n",
    "print(sentence)"
   ]
  },
  {
   "cell_type": "code",
   "execution_count": 9,
   "metadata": {
    "scrolled": true
   },
   "outputs": [
    {
     "name": "stdout",
     "output_type": "stream",
     "text": [
      "\u001b[1mСоседние слова:\u001b[0m ['если', 'подросток', 'добрый', 'хороший', 'часто', 'воспринимается', 'окружающими', 'как', 'проявление', 'слабости', 'его', 'характера', 'как', 'неспособность', 'чётко', 'высказать', 'свою', 'позицию']\n",
      "\u001b[1mНомера строк и количество совпадений\u001b[0m {2: 1.551321, 1293: 0, 6299: 0}\n",
      "\u001b[1mСинонимы:\u001b[0m\n",
      "['уступчивый', 'мирный', 'тише_воды_ниже_травы', 'жалостливый', 'мешковатый', 'медлительный', 'добродушный', 'спокойный', 'милостливый', 'смиренный', 'схимник', 'доброжелательный', 'бесшумный', 'смиренник', 'благоволительный', 'добросердечный', 'безгневный', 'терпеливый', 'чуткий', 'милосердый', 'отзывчивый', 'смирный', 'гуманный', 'неразговорчивый', 'миролюбивый', 'безбурный', 'душевный', 'милостивый', 'добр', 'медленный', 'протяжный', 'человечный', 'тихий', 'безветренный', 'добродетельный', 'рахманный', 'невысказанный', 'добряк', 'благодушный', 'скромный', 'сострадательный', 'безмятежный', 'безжелчный', 'восприимчивый', 'беззвучный', 'благий', 'умолчательный', 'безропотный', 'божья_коровка', 'добрый', 'безглагольный', 'покорный_судьбе', 'немой', 'человеколюбивый', 'тонкий', 'мягкосердечный', 'доблестный', 'мягкий', 'обидчивый', 'впечатлительный', 'безобидный', 'тихоня', 'беззлобный', 'милосердный', 'душа-человек', 'ангельский', 'благой', 'скупой_на_слова', 'щепетильный', 'баран', 'человеческий', 'тишайший', 'снисходительный', 'благорасположенный', 'терпимый', 'молчаливый', 'глухой', 'овечка', 'бессловесный', 'шелковый', 'кроткий', 'елейный', 'безответный', 'молчальник', 'незлобивый', 'водой_не_замутит', 'благотворительный', 'воздержный_на_язык', 'покорный', 'подразумеваемый', 'безмолвный', 'безгласный', 'золотое_сердце', 'веротерпимый', 'безмолвник', 'чувствительный', 'сердобольный', 'безличный', 'отходчивый', 'нестрогий', 'слабый', 'мухи_не_обидит']\n",
      "\u001b[1mСвязанные слова:\u001b[0m\n",
      "хороший\n",
      "\u001b[1mСовпадение по базе данных:\u001b[0m 100.0%\n"
     ]
    }
   ],
   "source": [
    "words_in_sentence = formatting(sentence, word)  # Разбиваем предложение на набор слов\n",
    "mentions_list = index[word]  # Находим синсеты с упоминанием слов\n",
    "similarity = find_similarity(mentions_list, words_in_sentence)  # Считаем количество совпадений синсета и предложения\n",
    "find_best(similarity)  # Находим лучший синсет"
   ]
  }
 ],
 "metadata": {
  "kernelspec": {
   "display_name": "Python 3",
   "language": "python",
   "name": "python3"
  },
  "language_info": {
   "codemirror_mode": {
    "name": "ipython",
    "version": 3
   },
   "file_extension": ".py",
   "mimetype": "text/x-python",
   "name": "python",
   "nbconvert_exporter": "python",
   "pygments_lexer": "ipython3",
   "version": "3.6.1"
  }
 },
 "nbformat": 4,
 "nbformat_minor": 2
}
