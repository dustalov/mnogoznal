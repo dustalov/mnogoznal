{
 "cells": [
  {
   "cell_type": "code",
   "execution_count": 1,
   "metadata": {
    "collapsed": true
   },
   "outputs": [],
   "source": [
    "# Библиотеки\n",
    "import csv\n",
    "from sklearn.pipeline import Pipeline\n",
    "from sklearn.metrics.pairwise import cosine_similarity\n",
    "from sklearn.feature_extraction.text import TfidfTransformer\n",
    "from sklearn.feature_extraction import DictVectorizer\n",
    "from collections import defaultdict"
   ]
  },
  {
   "cell_type": "code",
   "execution_count": 2,
   "metadata": {
    "collapsed": true
   },
   "outputs": [],
   "source": [
    "# Извлечение слова из строки вида 'word#X:Y'\n",
    "def lexeme(str):\n",
    "    \"\"\"Возвращает word, если вид word#X\n",
    "    Возвращает word, freq, если вид word#X:freq\n",
    "    \"\"\"\n",
    "    if '#' in str:\n",
    "        word, tail = str.split('#', 1)\n",
    "    else:\n",
    "        word, tail = str, None\n",
    "\n",
    "    if tail:\n",
    "        if ':' in tail:\n",
    "            labels, tail = tail.split(':', 1)\n",
    "        else:\n",
    "            labels, tail = tail, None\n",
    "\n",
    "    if tail:\n",
    "        freq = float(tail)\n",
    "    else:\n",
    "        freq = 1\n",
    "    \n",
    "    return word, freq"
   ]
  },
  {
   "cell_type": "code",
   "execution_count": 3,
   "metadata": {
    "collapsed": true
   },
   "outputs": [],
   "source": [
    "synsets = {}  # Словарь {id -> список синсетов}\n",
    "index = defaultdict(list)  # Словарь {слово -> номера синсетов с упоминаниями}\n",
    "lexicon = set()  # Набор всех слов в базе\n",
    "relations = {}  # Словарь {id -> словарь близких слов}\n",
    "\n",
    "# Считываем файл\n",
    "with open('watset-mcl-mcl-joint-exp-linked.tsv', 'r', encoding='utf-8') as f:\n",
    "    reader = csv.reader(f, delimiter='\\t', quoting=csv.QUOTE_NONE)  \n",
    "\n",
    "    # Перебираем строки и заполняем переменные synsets и relations словами.\n",
    "    # Ключи - номер строки (с единицы).\n",
    "    # Значения - словари вида {слово -> частота}.\n",
    "    for row in reader:\n",
    "        synsets_dict = dict()\n",
    "        for word in row[2].split(', '):\n",
    "            if word:\n",
    "                key, value = lexeme(word)\n",
    "                synsets_dict[key] = value\n",
    "        synsets[int(row[0])] = synsets_dict\n",
    "        \n",
    "        relations_dict = dict()\n",
    "        for word in row[4].split(', '):\n",
    "            if word:\n",
    "                key, value = lexeme(word)\n",
    "                relations_dict[key] = value\n",
    "        relations[int(row[0])] = relations_dict\n",
    "\n",
    "        # Закидываем номер строки в index для каждого слова.\n",
    "        for word in synsets[int(row[0])]:\n",
    "            index[word].append(int(row[0]))\n",
    "\n",
    "        # Обновляем лексикон базы данных\n",
    "        lexicon.update(synsets[int(row[0])])"
   ]
  },
  {
   "cell_type": "code",
   "execution_count": 4,
   "metadata": {},
   "outputs": [
    {
     "data": {
      "text/plain": [
       "Pipeline(steps=[('dict', DictVectorizer(dtype=<class 'numpy.float64'>, separator='=', sort=True,\n",
       "        sparse=True)), ('tfidf', TfidfTransformer(norm='l2', smooth_idf=True, sublinear_tf=False, use_idf=True))])"
      ]
     },
     "execution_count": 4,
     "metadata": {},
     "output_type": "execute_result"
    }
   ],
   "source": [
    "v = Pipeline([('dict', DictVectorizer()), ('tfidf', TfidfTransformer())])\n",
    "v.fit(synsets.values())"
   ]
  },
  {
   "cell_type": "code",
   "execution_count": 5,
   "metadata": {
    "collapsed": true
   },
   "outputs": [],
   "source": [
    "# Преобразование предложения в \"рабочий\" вид.\n",
    "def formatting(sentence, word):\n",
    "    \"\"\"Возвращает словарь слов, из которых состоит предложение.\"\"\"\n",
    "    table = {ord(char): None for char in '!?,.;'}  # Удаляем посторонние символы\n",
    "    sentence = sentence.translate(table)\n",
    "    sentence = sentence.lower()\n",
    "    \n",
    "    words_in_sentence = [word for word in sentence.split(' ') if word] \n",
    "    words_in_sentence.remove(word)  # Удаляем исходное слово из списка соседних по предложению слов.\n",
    "    words_dict = dict()\n",
    "    for word in words_in_sentence:\n",
    "         words_dict[word] = 1\n",
    "    \n",
    "    return words_dict"
   ]
  },
  {
   "cell_type": "code",
   "execution_count": 6,
   "metadata": {
    "collapsed": true
   },
   "outputs": [],
   "source": [
    "def cos_similar(sentence_dict, word):\n",
    "    cos_result = dict()\n",
    "    for i in range(1,(len(synsets))):\n",
    "        synset = synsets[i]\n",
    "        if word in synset.keys():\n",
    "            sim = cosine_similarity(v.transform(synset), v.transform(sentence_dict)).item(0)\n",
    "            if (sim != 0):\n",
    "                cos_result[i] = sim\n",
    "    return cos_result"
   ]
  },
  {
   "cell_type": "code",
   "execution_count": 7,
   "metadata": {},
   "outputs": [
    {
     "name": "stdout",
     "output_type": "stream",
     "text": [
      "{2: 0.024169463991165787}\n"
     ]
    }
   ],
   "source": [
    "sentence = (\n",
    "    'Если подросток добрый, уступчивый и хороший, '\n",
    "    + 'то это часто воспринимается окружающими как проявление слабости его характера, '\n",
    "    + 'как неспособность чётко высказать свою позицию.')\n",
    "word = 'уступчивый'\n",
    "words_dict = formatting(sentence, word)\n",
    "result = cos_similar(words_dict, word)\n",
    "print(result)"
   ]
  }
 ],
 "metadata": {
  "kernelspec": {
   "display_name": "Python 3",
   "language": "python",
   "name": "python3"
  },
  "language_info": {
   "codemirror_mode": {
    "name": "ipython",
    "version": 3
   },
   "file_extension": ".py",
   "mimetype": "text/x-python",
   "name": "python",
   "nbconvert_exporter": "python",
   "pygments_lexer": "ipython3",
   "version": "3.6.1"
  }
 },
 "nbformat": 4,
 "nbformat_minor": 2
}
