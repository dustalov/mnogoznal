{
 "cells": [
  {
   "cell_type": "code",
   "execution_count": 1,
   "metadata": {
    "collapsed": true
   },
   "outputs": [],
   "source": [
    "import subprocess\n",
    "import os\n",
    "import platform"
   ]
  },
  {
   "cell_type": "code",
   "execution_count": 2,
   "metadata": {},
   "outputs": [],
   "source": [
    "def mystem_func(text):\n",
    "    \"\"\"Возвращает список, состоящий из списков вида [token, lemma, pos]\"\"\"\n",
    "    \n",
    "    coding = 'UTF-8'\n",
    "    if (platform.system() == 'Windows'):\n",
    "        coding = 'cp866'\n",
    "        \n",
    "    # Выполнение команды mystem\n",
    "    command = \"echo '%s' | mystem -e %s -nidsc\" % (text, coding)  \n",
    "    proc = subprocess.Popen(command, shell=True, stdout=subprocess.PIPE, )\n",
    "    output = proc.communicate()[0] \n",
    "    \n",
    "    # Обработка результата в считываемый вид (массив строк)\n",
    "    string_output = str(output.decode(coding))  \n",
    "    string_output = string_output[3:]  # В начале вывода стоит кавычка и перевод строки - не значащая информация\n",
    "    string_output = string_output[:-4]  # В конце вывода стоит кавычка и перевод строки - не значащая информация\n",
    "    string_output = string_output.replace(\"_\", \"\")  # Убираем незначащий символ \"_\" в выводе \n",
    "    sentences = string_output.split('\\s')  # Деление вывода на предложения\n",
    "    \n",
    "    # Обработка каждого предложения по очереди\n",
    "    # Результат каждого предложения - элемент списка sentences_array\n",
    "    sentences_array = list()\n",
    "    for sentence in sentences:\n",
    "        words = sentence.split(os.linesep)  # Деление предложений на слова\n",
    "        words = [x for x in words if x != '']  # В некоторых местах появляются пустые элементы списка - удаляем\n",
    "        \n",
    "        # Обработка каждой строки так, чтобы получить для слова его токен, лемму и часть речи.\n",
    "        # Результат для каждого слова записывается в список из трех элементов.\n",
    "        # Все списки хранятся в списке words_array\n",
    "        words_array = list()\n",
    "        for word_line in words:\n",
    "            if (len(word_line) == 1):  #  Случай, если попался знак пунктуации\n",
    "                token = word_line\n",
    "                buf = [word_line, 'PUNC']\n",
    "            \n",
    "            else:  #  Случай, если попалось слово\n",
    "                start_index = word_line.find('{',)\n",
    "                end_index = len(word_line) - 1\n",
    "                token = word_line[:start_index]  \n",
    "                \n",
    "                # Отбрасываем лишнюю информацию\n",
    "                buf = word_line[start_index+1:end_index].split(',')\n",
    "                buf = buf[0].split('=')\n",
    "                if (len(buf) > 2):\n",
    "                    del buf[2]\n",
    "              \n",
    "            # Оформляем результат в виде списка\n",
    "            buf.insert(0, token)\n",
    "            words_array.append(buf)\n",
    "        \n",
    "        sentences_array.append(words_array)\n",
    "    return sentences_array"
   ]
  },
  {
   "cell_type": "code",
   "execution_count": 3,
   "metadata": {},
   "outputs": [],
   "source": [
    "text = (\n",
    "    'Если подросток добрый, уступчивый и хороший, '\n",
    "    + 'то это часто воспринимается окружающими как проявление слабости его характера, '\n",
    "    + 'как неспособность чётко высказать свою позицию. '\n",
    "    + 'Как поживаешь, друг?')"
   ]
  },
  {
   "cell_type": "code",
   "execution_count": 4,
   "metadata": {},
   "outputs": [
    {
     "name": "stdout",
     "output_type": "stream",
     "text": [
      "\u001b[1mПредложение 0:\u001b[0m [['Если', 'если', 'CONJ'], ['подросток', 'подросток', 'S'], ['добрый', 'добрый', 'A'], [',', ',', 'PUNC'], ['уступчивый', 'уступчивый', 'A'], ['и', 'и', 'CONJ'], ['хороший', 'хороший', 'A'], [',', ',', 'PUNC'], ['то', 'то', 'CONJ'], ['это', 'это', 'SPRO'], ['часто', 'часто', 'ADV'], ['воспринимается', 'восприниматься', 'V'], ['окружающими', 'окружающие', 'S'], ['как', 'как', 'CONJ'], ['проявление', 'проявление', 'S'], ['слабости', 'слабость', 'S'], ['его', 'его', 'APRO'], ['характера', 'характер', 'S'], [',', ',', 'PUNC'], ['как', 'как', 'CONJ'], ['неспособность', 'неспособность', 'S'], ['чётко', 'четко', 'ADV'], ['высказать', 'высказывать', 'V'], ['свою', 'свой', 'APRO'], ['позицию', 'позиция', 'S'], ['.', '.', 'PUNC']]\n",
      "\u001b[1mПредложение 1:\u001b[0m [['Как', 'как', 'ADVPRO'], ['поживаешь', 'поживать', 'V'], [',', ',', 'PUNC'], ['друг', 'друг', 'S'], ['?', '?', 'PUNC']]\n"
     ]
    }
   ],
   "source": [
    "result = mystem_func(text)\n",
    "for i in range(0,len(result)):  \n",
    "    print('\\033[1m' + 'Предложение %i:'%i + '\\033[0m', result[i])"
   ]
  }
 ],
 "metadata": {
  "kernelspec": {
   "display_name": "Python 3",
   "language": "python",
   "name": "python3"
  },
  "language_info": {
   "codemirror_mode": {
    "name": "ipython",
    "version": 3
   },
   "file_extension": ".py",
   "mimetype": "text/x-python",
   "name": "python",
   "nbconvert_exporter": "python",
   "pygments_lexer": "ipython3",
   "version": "3.6.1"
  }
 },
 "nbformat": 4,
 "nbformat_minor": 2
}
