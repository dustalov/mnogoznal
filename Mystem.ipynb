{
 "cells": [
  {
   "cell_type": "code",
   "execution_count": 1,
   "metadata": {
    "collapsed": true
   },
   "outputs": [],
   "source": [
    "import subprocess\n",
    "import os\n",
    "import platform"
   ]
  },
  {
   "cell_type": "code",
   "execution_count": 2,
   "metadata": {
    "collapsed": true
   },
   "outputs": [],
   "source": [
    "def mystem_func(text):\n",
    "    \"\"\"Возвращает список, состоящий из списков вида [token, lemma, pos]\"\"\"\n",
    "    \n",
    "    coding = 'UTF-8'\n",
    "    if (platform.system() == 'Windows'):\n",
    "        coding = 'cp866'\n",
    "        \n",
    "    # Выполнение команды mystem\n",
    "    command = \"echo '%s' | mystem -e %s -nidsc\" % (text, coding)  \n",
    "    proc = subprocess.Popen(command, shell=True, stdout=subprocess.PIPE, )\n",
    "    output = proc.communicate()[0] \n",
    "    \n",
    "    # Обработка результата в считываемый вид (массив строк)\n",
    "    string_output = str(output.decode(coding))  \n",
    "    string_output = string_output[:-5]  # Удаление лишних символов в конце текста (завершающий символ и \\n)\n",
    "    sentences = string_output.split('\\s')\n",
    "    sentences_array = list()\n",
    "    for sentence in sentences:\n",
    "        words = sentence.split(os.linesep)\n",
    "        words = [x for x in words if len(x) > 3]\n",
    "    \n",
    "        # Обработка каждой строки так, чтобы получить для слова его токен, лемму и часть речи.\n",
    "        # Результат для каждого слова записывается в список из трех элементов.\n",
    "        # Все списки хранятся в списке words_array\n",
    "        words_array = list()\n",
    "        for word_line in words:\n",
    "            start_index = word_line.find('{',)\n",
    "            end_index = len(word_line) - 1\n",
    "            token = word_line[:start_index]\n",
    "\n",
    "            # Отбрасываем лишнюю информацию\n",
    "            buf = word_line[start_index+1:end_index].split(',')\n",
    "            buf = buf[0].split('=')\n",
    "            if (len(buf) > 2):\n",
    "                del buf[2]\n",
    "                \n",
    "            # Оформляем результат в виде списка\n",
    "            buf.insert(0, token)\n",
    "            words_array.append(buf)\n",
    "        \n",
    "        sentences_array.append(words_array)\n",
    "    for i in range(0,len(sentences_array)):  \n",
    "        print('\\033[1m' + 'Предложение %i:'%i + '\\033[0m', sentences_array[i])\n",
    "    return sentences_array"
   ]
  },
  {
   "cell_type": "code",
   "execution_count": 3,
   "metadata": {
    "collapsed": true
   },
   "outputs": [],
   "source": [
    "text = (\n",
    "    'Если подросток добрый, уступчивый и хороший, '\n",
    "    + 'то это часто воспринимается окружающими как проявление слабости его характера, '\n",
    "    + 'как неспособность чётко высказать свою позицию. '\n",
    "    + 'Как поживаешь, друг?'\n",
    ")"
   ]
  },
  {
   "cell_type": "code",
   "execution_count": 4,
   "metadata": {},
   "outputs": [
    {
     "name": "stdout",
     "output_type": "stream",
     "text": [
      "Windows\n",
      "\u001b[1mПредложение 0:\u001b[0m [['Если', 'если', 'CONJ'], ['подросток', 'подросток', 'S'], ['добрый', 'добрый', 'A'], ['уступчивый', 'уступчивый', 'A'], ['и', 'и', 'CONJ'], ['хороший', 'хороший', 'A'], ['то', 'то', 'CONJ'], ['это', 'это', 'SPRO'], ['часто', 'часто', 'ADV'], ['воспринимается', 'восприниматься', 'V'], ['окружающими', 'окружающие', 'S'], ['как', 'как', 'CONJ'], ['проявление', 'проявление', 'S'], ['слабости', 'слабость', 'S'], ['его', 'его', 'APRO'], ['характера', 'характер', 'S'], ['как', 'как', 'CONJ'], ['неспособность', 'неспособность', 'S'], ['чётко', 'четко', 'ADV'], ['высказать', 'высказывать', 'V'], ['свою', 'свой', 'APRO'], ['позицию', 'позиция', 'S']]\n",
      "\u001b[1mПредложение 1:\u001b[0m [['Как', 'как', 'ADVPRO'], ['поживаешь', 'поживать', 'V'], ['друг', 'друг', 'S']]\n"
     ]
    }
   ],
   "source": [
    "takoe = mystem_func(text)"
   ]
  }
 ],
 "metadata": {
  "kernelspec": {
   "display_name": "Python 3",
   "language": "python",
   "name": "python3"
  },
  "language_info": {
   "codemirror_mode": {
    "name": "ipython",
    "version": 3
   },
   "file_extension": ".py",
   "mimetype": "text/x-python",
   "name": "python",
   "nbconvert_exporter": "python",
   "pygments_lexer": "ipython3",
   "version": "3.6.1"
  }
 },
 "nbformat": 4,
 "nbformat_minor": 2
}
