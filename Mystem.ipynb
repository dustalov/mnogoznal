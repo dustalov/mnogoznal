{
 "cells": [
  {
   "cell_type": "code",
   "execution_count": 1,
   "metadata": {},
   "outputs": [],
   "source": [
    "from pymystem3 import Mystem\n",
    "m = Mystem()"
   ]
  },
  {
   "cell_type": "code",
   "execution_count": 2,
   "metadata": {
    "collapsed": true
   },
   "outputs": [],
   "source": [
    "text = (\n",
    "    'Если подросток добрый, уступчивый и хороший, '\n",
    "    + 'то это часто воспринимается окружающими как проявление слабости его характера, '\n",
    "    + 'как неспособность чётко высказать свою позицию.')"
   ]
  },
  {
   "cell_type": "code",
   "execution_count": 3,
   "metadata": {
    "collapsed": true
   },
   "outputs": [],
   "source": [
    "prepositions = ['в', 'без', 'до', 'из', 'к', 'на', 'по', 'о', 'от', 'перед', 'при', 'через',\n",
    "                'с', 'у', 'и', 'за', 'над', 'для', 'об', 'под', 'про', 'то', 'это', 'а']\n",
    "\n",
    "def mystem_func(text):\n",
    "    table = {ord(char): None for char in '!?,.;'}  # Удаляем посторонние символы\n",
    "    text = text.translate(table)\n",
    "    \n",
    "    lemmas = m.lemmatize(text)\n",
    "    lemmas = list(filter(lambda a: a is not ' ', lemmas))\n",
    "    lemmas = [x for x in lemmas if x not in prepositions] # Удаляем предлоги\n",
    "    lemmas.remove('\\n')\n",
    "    return lemmas"
   ]
  },
  {
   "cell_type": "code",
   "execution_count": 4,
   "metadata": {},
   "outputs": [
    {
     "data": {
      "text/plain": [
       "['если',\n",
       " 'подросток',\n",
       " 'добрый',\n",
       " 'уступчивый',\n",
       " 'хороший',\n",
       " 'часто',\n",
       " 'восприниматься',\n",
       " 'окружающие',\n",
       " 'как',\n",
       " 'проявление',\n",
       " 'слабость',\n",
       " 'его',\n",
       " 'характер',\n",
       " 'как',\n",
       " 'неспособность',\n",
       " 'четко',\n",
       " 'высказывать',\n",
       " 'свой',\n",
       " 'позиция']"
      ]
     },
     "execution_count": 4,
     "metadata": {},
     "output_type": "execute_result"
    }
   ],
   "source": [
    "mystem_func(text)"
   ]
  }
 ],
 "metadata": {
  "kernelspec": {
   "display_name": "Python 3",
   "language": "python",
   "name": "python3"
  },
  "language_info": {
   "codemirror_mode": {
    "name": "ipython",
    "version": 3
   },
   "file_extension": ".py",
   "mimetype": "text/x-python",
   "name": "python",
   "nbconvert_exporter": "python",
   "pygments_lexer": "ipython3",
   "version": "3.6.1"
  }
 },
 "nbformat": 4,
 "nbformat_minor": 2
}
