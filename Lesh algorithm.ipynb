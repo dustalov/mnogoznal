{
 "cells": [
  {
   "cell_type": "markdown",
   "metadata": {},
   "source": [
    "## Подготовка"
   ]
  },
  {
   "cell_type": "code",
   "execution_count": 1,
   "metadata": {
    "collapsed": true
   },
   "outputs": [],
   "source": [
    "#библиотеки\n",
    "import pandas as pd\n",
    "\n",
    "#для форматирования вывода\n",
    "BOLD = '\\033[1m'\n",
    "END = '\\033[0m'"
   ]
  },
  {
   "cell_type": "markdown",
   "metadata": {},
   "source": [
    "Считываем таблицу синонимов watset."
   ]
  },
  {
   "cell_type": "code",
   "execution_count": 2,
   "metadata": {},
   "outputs": [
    {
     "data": {
      "text/html": [
       "<div>\n",
       "<style>\n",
       "    .dataframe thead tr:only-child th {\n",
       "        text-align: right;\n",
       "    }\n",
       "\n",
       "    .dataframe thead th {\n",
       "        text-align: left;\n",
       "    }\n",
       "\n",
       "    .dataframe tbody tr th {\n",
       "        vertical-align: top;\n",
       "    }\n",
       "</style>\n",
       "<table border=\"1\" class=\"dataframe\">\n",
       "  <thead>\n",
       "    <tr style=\"text-align: right;\">\n",
       "      <th></th>\n",
       "      <th>words</th>\n",
       "      <th>relations</th>\n",
       "    </tr>\n",
       "  </thead>\n",
       "  <tbody>\n",
       "    <tr>\n",
       "      <th>0</th>\n",
       "      <td>мастерской, помпезный, искусственный, сахарный...</td>\n",
       "      <td>хороший#3:0.712557</td>\n",
       "    </tr>\n",
       "    <tr>\n",
       "      <th>1</th>\n",
       "      <td>уступчивый, мирный, тише_воды_ниже_травы, жало...</td>\n",
       "      <td>хороший#3:0.551321</td>\n",
       "    </tr>\n",
       "    <tr>\n",
       "      <th>2</th>\n",
       "      <td>заведомо, ни_дать_ни_взять, тика_в_тику, отож,...</td>\n",
       "      <td>да#3:0.368931, правильно#1:0.305335</td>\n",
       "    </tr>\n",
       "    <tr>\n",
       "      <th>3</th>\n",
       "      <td>поворотливый, прыткий, проныра, юркий, правомо...</td>\n",
       "      <td>хороший#3:0.363612, человек#4:0.219069</td>\n",
       "    </tr>\n",
       "    <tr>\n",
       "      <th>4</th>\n",
       "      <td>излупцевать, задать_взбучку, огреть, откатать,...</td>\n",
       "      <td>NaN</td>\n",
       "    </tr>\n",
       "  </tbody>\n",
       "</table>\n",
       "</div>"
      ],
      "text/plain": [
       "                                               words  \\\n",
       "0  мастерской, помпезный, искусственный, сахарный...   \n",
       "1  уступчивый, мирный, тише_воды_ниже_травы, жало...   \n",
       "2  заведомо, ни_дать_ни_взять, тика_в_тику, отож,...   \n",
       "3  поворотливый, прыткий, проныра, юркий, правомо...   \n",
       "4  излупцевать, задать_взбучку, огреть, откатать,...   \n",
       "\n",
       "                                relations  \n",
       "0                      хороший#3:0.712557  \n",
       "1                      хороший#3:0.551321  \n",
       "2     да#3:0.368931, правильно#1:0.305335  \n",
       "3  хороший#3:0.363612, человек#4:0.219069  \n",
       "4                                     NaN  "
      ]
     },
     "execution_count": 2,
     "metadata": {},
     "output_type": "execute_result"
    }
   ],
   "source": [
    "data = pd.read_table('watset-mcl-mcl-synsets.tsv', names = ['words'], sep = '\\t', usecols = [2])\n",
    "data['relations'] = pd.read_table('watset-mcl-mcl-joint-exp-linked.tsv', names = ['relations'], sep = '\\t', usecols = [4])\n",
    "data.head()"
   ]
  },
  {
   "cell_type": "markdown",
   "metadata": {},
   "source": [
    "Разбиваем набор слов на список списков."
   ]
  },
  {
   "cell_type": "code",
   "execution_count": 3,
   "metadata": {
    "collapsed": true
   },
   "outputs": [],
   "source": [
    "watset_dictionary = list()\n",
    "watlink_dictionary = list()\n",
    "for i in range(0,len(data)):\n",
    "    buf = data.iloc[i, :].words #words -> список слов\n",
    "    watset_dictionary.append(buf.split(', '))\n",
    "    \n",
    "    buf = data.iloc[i, :].relations #relations -> список словарей (слово - значение)\n",
    "    if type(buf) is not float:\n",
    "        buf = buf.split(', ')\n",
    "        buf_dict = dict()\n",
    "        for j in buf:\n",
    "            buf_one = j.split('#')\n",
    "            buf_one[1] = buf_one[1][2:]\n",
    "            buf_dict[buf_one[0]] = buf_one[1]\n",
    "            watlink_dictionary.append(buf_dict)"
   ]
  },
  {
   "cell_type": "markdown",
   "metadata": {},
   "source": [
    "Создадим список предлогов, чтобы их выкинуть из будущего предложения."
   ]
  },
  {
   "cell_type": "code",
   "execution_count": 4,
   "metadata": {
    "collapsed": true
   },
   "outputs": [],
   "source": [
    "#prepositions = [u'в', u'без', u'до', u'из', u'к', u'на', u'по', u'о', u'от', u'перед', u'при', u'через', u'с', \n",
    "#                u'у', u'и', u'за', u'над', u'для', u'об', u'под', u'про', u'то', u'это', u'а']\n",
    "prepositions = ['в', 'без', 'до', 'из', 'к', 'на', 'по', 'о', 'от', 'перед', 'при', 'через', 'с', \n",
    "                'у', 'и', 'за', 'над', 'для', 'об', 'под', 'про', 'то', 'это', 'а']"
   ]
  },
  {
   "cell_type": "markdown",
   "metadata": {},
   "source": [
    "## Функции обработки"
   ]
  },
  {
   "cell_type": "code",
   "execution_count": 31,
   "metadata": {},
   "outputs": [],
   "source": [
    "#Форматирование запроса в \"рабочий\" вид\n",
    "def Formatting(sentence, word):  \n",
    "    table = {ord(char): None for char in '!?,.;'} #удаляем посторонние символы\n",
    "    sentence = sentence.translate(table)\n",
    "    \n",
    "    sentence = sentence.lower() #переводим предложение в нижний регистр\n",
    "    words_in_sentence = sentence.split(' ') #разбиваем предложения на слова\n",
    "    words_in_sentence.remove(word) #Удаляем исходное слово из списка соседних по предложению слов\n",
    "    \n",
    "    words_in_sentence = [x for x in words_in_sentence if x not in prepositions] #удаляем предлоги\n",
    "    \n",
    "    print(BOLD + \"Соседние слова:\" + END, words_in_sentence)\n",
    "    return words_in_sentence"
   ]
  },
  {
   "cell_type": "code",
   "execution_count": 8,
   "metadata": {
    "collapsed": true
   },
   "outputs": [],
   "source": [
    "#Поиск номеров строк, где есть искомое слово\n",
    "def Find_mensioning():\n",
    "    results = dict()\n",
    "    for i in range(0,len(watset_dictionary)):\n",
    "        if (word in watset_dictionary[i]):\n",
    "            results[i] = 0\n",
    "    print(BOLD + 'Номера строк:' + END, results.keys())\n",
    "    return results"
   ]
  },
  {
   "cell_type": "code",
   "execution_count": 9,
   "metadata": {
    "collapsed": true
   },
   "outputs": [],
   "source": [
    "#Поиск в найденных строках слов, которые есть в искомом предложении\n",
    "def Find_similarity(results, words_in_sentence):\n",
    "    for i in results.keys():\n",
    "        for close_word in words_in_sentence:\n",
    "            if (close_word in watset_dictionary[i]):\n",
    "                results[i] = results[i] + 1\n",
    "            if (close_word in watlink_dictionary[i]):\n",
    "                results[i] = results[i] + float(watlink_dictionary[i][close_word])\n",
    "    print(BOLD + 'Номера строк и количество совпадений' + END, results)\n",
    "    return results"
   ]
  },
  {
   "cell_type": "code",
   "execution_count": 33,
   "metadata": {
    "scrolled": true
   },
   "outputs": [],
   "source": [
    "#Находим лучшую строку и процентное соотношение\n",
    "def Find_best(results):\n",
    "    summary = 0\n",
    "    max = 0\n",
    "    for i in results.keys():\n",
    "        summary = summary + results[i]\n",
    "        if (results[i] > max):\n",
    "            max = results[i]\n",
    "            index = i\n",
    "\n",
    "    print(BOLD + 'Синонимы:' + END)\n",
    "    if (summary > 0):\n",
    "        print(watset_dictionary[index])\n",
    "        print(BOLD + 'Связанные слова:' + END)\n",
    "        for key in watlink_dictionary[index].keys():\n",
    "            print(key)\n",
    "        print(BOLD + 'Совпадение по базе данных:' + END, str(max/summary * 100) + \"%\")\n",
    "    else:\n",
    "        print(\"not found\")"
   ]
  },
  {
   "cell_type": "markdown",
   "metadata": {},
   "source": [
    "## Работа с входными данными"
   ]
  },
  {
   "cell_type": "code",
   "execution_count": 13,
   "metadata": {
    "collapsed": true
   },
   "outputs": [],
   "source": [
    "sentence = 'Если подросток добрый, уступчивый и хороший, то это часто воспринимается окружающими как проявление слабости его характера, как неспособность чётко высказать свою позицию.'\n",
    "word = 'уступчивый'"
   ]
  },
  {
   "cell_type": "code",
   "execution_count": 34,
   "metadata": {},
   "outputs": [
    {
     "name": "stdout",
     "output_type": "stream",
     "text": [
      "\u001b[1mСоседние слова:\u001b[0m ['если', 'подросток', 'добрый', 'хороший', 'часто', 'воспринимается', 'окружающими', 'как', 'проявление', 'слабости', 'его', 'характера', 'как', 'неспособность', 'чётко', 'высказать', 'свою', 'позицию']\n",
      "\u001b[1mНомера строк:\u001b[0m dict_keys([1, 1223, 6286])\n",
      "\u001b[1mНомера строк и количество совпадений\u001b[0m {1: 1.551321, 1223: 0, 6286: 0}\n",
      "\u001b[1mСинонимы:\u001b[0m\n",
      "['уступчивый', 'мирный', 'тише_воды_ниже_травы', 'жалостливый', 'мешковатый', 'медлительный', 'добродушный', 'спокойный', 'милостливый', 'смиренный', 'схимник', 'доброжелательный', 'бесшумный', 'смиренник', 'благоволительный', 'добросердечный', 'безгневный', 'терпеливый', 'чуткий', 'милосердый', 'отзывчивый', 'смирный', 'гуманный', 'неразговорчивый', 'миролюбивый', 'безбурный', 'душевный', 'милостивый', 'добр', 'медленный', 'протяжный', 'человечный', 'тихий', 'безветренный', 'добродетельный', 'рахманный', 'невысказанный', 'добряк', 'благодушный', 'скромный', 'сострадательный', 'безмятежный', 'безжелчный', 'восприимчивый', 'беззвучный', 'благий', 'умолчательный', 'безропотный', 'божья_коровка', 'добрый', 'безглагольный', 'покорный_судьбе', 'немой', 'человеколюбивый', 'тонкий', 'мягкосердечный', 'доблестный', 'мягкий', 'обидчивый', 'впечатлительный', 'безобидный', 'тихоня', 'беззлобный', 'милосердный', 'душа-человек', 'ангельский', 'благой', 'скупой_на_слова', 'щепетильный', 'баран', 'человеческий', 'тишайший', 'снисходительный', 'благорасположенный', 'терпимый', 'молчаливый', 'глухой', 'овечка', 'бессловесный', 'шелковый', 'кроткий', 'елейный', 'безответный', 'молчальник', 'незлобивый', 'водой_не_замутит', 'благотворительный', 'воздержный_на_язык', 'покорный', 'подразумеваемый', 'безмолвный', 'безгласный', 'золотое_сердце', 'веротерпимый', 'безмолвник', 'чувствительный', 'сердобольный', 'безличный', 'отходчивый', 'нестрогий', 'слабый', 'мухи_не_обидит']\n",
      "\u001b[1mСвязанные слова:\u001b[0m\n",
      "хороший\n",
      "\u001b[1mСовпадение по базе данных:\u001b[0m 100.0%\n"
     ]
    }
   ],
   "source": [
    "words_in_sentence = Formatting(sentence, word)\n",
    "mentions = Find_mensioning()\n",
    "similarity = Find_similarity(mentions, words_in_sentence)\n",
    "Find_best(similarity)"
   ]
  }
 ],
 "metadata": {
  "kernelspec": {
   "display_name": "Python 3",
   "language": "python",
   "name": "python3"
  },
  "language_info": {
   "codemirror_mode": {
    "name": "ipython",
    "version": 3
   },
   "file_extension": ".py",
   "mimetype": "text/x-python",
   "name": "python",
   "nbconvert_exporter": "python",
   "pygments_lexer": "ipython3",
   "version": "3.6.1"
  }
 },
 "nbformat": 4,
 "nbformat_minor": 2
}
